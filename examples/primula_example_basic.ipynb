{
 "cells": [
  {
   "cell_type": "markdown",
   "metadata": {},
   "source": [
    "## Basic worflow of Primula\n",
    "\n",
    "The current Jupyter notebook represents a basic worflow for Primula. It is designed to be executed from any laptop with python version above 3.4 installed, as all the computationally intensive tasks are performed through serverless functions. We show some sort operations on CSV formatted datasets."
   ]
  },
  {
   "cell_type": "code",
   "execution_count": null,
   "metadata": {},
   "outputs": [],
   "source": [
    "# The config.json file must be previously filled with data extracted from the user's IBM Cloud account \n",
    "# (see README.md)\n",
    "import json\n",
    "# We load the config.json file and instantiate an executor from IBM-PyWren from such configuration.\n",
    "config = json.load(open('config.json'))\n",
    "import pywren_ibm_cloud as pywren\n",
    "pywren_executor = pywren.ibm_cf_executor(config=config)"
   ]
  },
  {
   "cell_type": "code",
   "execution_count": null,
   "metadata": {},
   "outputs": [],
   "source": [
    "# If we plan to automatize our workflow through Primula's inferentiation of the optimal number of\n",
    "# workers, we must fullfill some connection parameters (bandwidth and throughput) between IBM Cloud\n",
    "# Functions and IBM Cloud Object Storage.\n",
    "# Such parameters are automatically calculated through the following function, in a few minutes. \n",
    "# Once we have determined the connection parameters, they are saved in pywren's local directory\n",
    "# and do not have to be recalculated for the next executions.\n",
    "pywren_executor.setup_shuffle_model()"
   ]
  },
  {
   "cell_type": "code",
   "execution_count": null,
   "metadata": {},
   "outputs": [],
   "source": [
    "# Primula's sort call is extremely simple, as it is able to inference the number of workers\n",
    "# automatically.\n",
    "pywren_executor.sort(\"cos://us-east/german-data/Brain02_Bregma1-42_02_v2.csv\", primary_key_column=1)"
   ]
  },
  {
   "cell_type": "code",
   "execution_count": null,
   "metadata": {},
   "outputs": [],
   "source": [
    "# Connection parameters have already been calculated, so now sort operations can be automatized\n",
    "# and pipelined with close to zero intervention by the user.\n",
    "pywren_executor.sort(\"cos://us-east/german-data/CT26_xenograft.csv\", primary_key_column=1)"
   ]
  },
  {
   "cell_type": "code",
   "execution_count": null,
   "metadata": {},
   "outputs": [],
   "source": [
    "# We can also give some hints to the sort function for efficiency, for instance, the data type of\n",
    "# each column.\n",
    "pywren_executor.sort(\"cos://us-east/german-data/CT26_xenograft.csv\", primary_key_column=1, dtypes=['int32','float64','float32'])"
   ]
  },
  {
   "cell_type": "code",
   "execution_count": null,
   "metadata": {},
   "outputs": [],
   "source": [
    "# The user can also specify the number of workers. In this case, we are specifying the number of final\n",
    "# segments (40) that will output the sort algorithm. Thus, the sort algorithm will launch 40 parallel \n",
    "# workers at the map phase and 40 parallel workers at the reduce phase.\n",
    "pywren_executor.sort(config, \"cos://us-east/german-data/X089-Mousebrain.csv\", primary_key_column=1, segm_n=40)"
   ]
  }
 ],
 "metadata": {
  "kernelspec": {
   "display_name": "pywren-shuffle",
   "language": "python",
   "name": "pywren-shuffle"
  },
  "language_info": {
   "codemirror_mode": {
    "name": "ipython",
    "version": 3
   },
   "file_extension": ".py",
   "mimetype": "text/x-python",
   "name": "python",
   "nbconvert_exporter": "python",
   "pygments_lexer": "ipython3",
   "version": "3.6.9"
  }
 },
 "nbformat": 4,
 "nbformat_minor": 4
}
